{
 "cells": [
  {
   "cell_type": "markdown",
   "metadata": {},
   "source": [
    "# TP2 - EA3\n",
    "Diseñar, simular e implemetar un amplificador de microondas de baja señal para máxima transferencia de energía (adaptación de impedancias de entrada y salida)\n",
    "Los requisitos son:\n",
    "- $Z_{in}$ = 50 $\\Omega$\n",
    "- $Z_L$ = 50 $\\Omega$\n",
    "- FR4 $\\rightarrow \\epsilon_r = 4.5$\n",
    "- El transistor elegido es BFP 450\n",
    " A continuacion se cargan en un arreglo los parámetros S en base a la tensión y corriente de polarización seleccionadas para el transistor"
   ]
  },
  {
   "cell_type": "markdown",
   "metadata": {},
   "source": [
    "### Se procede a cargar los datos del archivo s2p para poder trabajar con ellos"
   ]
  },
  {
   "cell_type": "code",
   "execution_count": 1,
   "metadata": {},
   "outputs": [
    {
     "name": "stdout",
     "output_type": "stream",
     "text": [
      "Información de la red: 2-Port Network: 'BFP450_w_noise_VCE_1.0V_IC_0.16A',  1.2-12.0 GHz, 154 pts, z0=[50.+0.j 50.+0.j]\n"
     ]
    }
   ],
   "source": [
    "import numpy as np\n",
    "import skrf as rf # se hace uso de la libreria scikit-rf para leer los datos brindados por el fabricante\n",
    "file_path = 'E:\\Materias en curso\\Analogica 3\\TP2\\SPAR\\BFP450\\BFP450_w_noise_VCE_1.0V_IC_0.16A.s2p'\n",
    "network = rf.Network(file_path)\n",
    "print(\"Información de la red:\",network)\n",
    "# Acceder a los parámetros S\n",
    "s_parameters = network.s"
   ]
  },
  {
   "cell_type": "markdown",
   "metadata": {},
   "source": [
    "### Parámetros S"
   ]
  },
  {
   "cell_type": "code",
   "execution_count": 2,
   "metadata": {},
   "outputs": [
    {
     "name": "stdout",
     "output_type": "stream",
     "text": [
      "Coeficiente S11: -0.7819+0.2496j\n",
      "Coeficiente S12: 0.0249+0.0443j\n",
      "Coeficiente S21: 1.3161+3.3411j\n",
      "Coeficiente S22: -0.6122+0.1245j\n"
     ]
    }
   ],
   "source": [
    "S11=s_parameters[0, 0][0]\n",
    "S12=s_parameters[0, 0][1]\n",
    "S21=s_parameters[0, 1][0]\n",
    "S22=s_parameters[0, 1][1]\n",
    "print(f\"Coeficiente S11:\", \"{:.4f}\".format(S11))\n",
    "print(f\"Coeficiente S12:\", \"{:.4f}\".format(S12))\n",
    "print(f\"Coeficiente S21:\", \"{:.4f}\".format(S21))\n",
    "print(f\"Coeficiente S22:\", \"{:.4f}\".format(S22))"
   ]
  },
  {
   "cell_type": "markdown",
   "metadata": {},
   "source": [
    "### Matriz de coeficientes y su Determinante"
   ]
  },
  {
   "cell_type": "code",
   "execution_count": 3,
   "metadata": {},
   "outputs": [
    {
     "name": "stdout",
     "output_type": "stream",
     "text": [
      "Matriz de Coeficientes S:\n",
      "-0.7819+0.2496j 0.0249+0.0443j\n",
      "1.3161+3.3411j -0.6122+0.1245j\n",
      "\n",
      "Su determinante es: 0.5626-0.3917j\n"
     ]
    }
   ],
   "source": [
    "Mat_S = [[S11, S12], [S21 , S22]]\n",
    "# Redondear los valores de la matriz para la impresión\n",
    "Mat_S_rounded = [[np.round(S, 4) for S in row] for row in Mat_S]\n",
    "# Imprimir la matriz Mat_S con valores redondeados a 4 decimales\n",
    "print(\"Matriz de Coeficientes S:\")\n",
    "for row in Mat_S_rounded:\n",
    "    row_str = \" \".join([\"{:.4f}\".format(val) for val in row])\n",
    "    print(row_str)\n",
    "\n",
    "print(\"\")\n",
    "det = np.linalg.det(Mat_S)\n",
    "print(\"Su determinante es:\", \"{:.4f}\".format(det))"
   ]
  },
  {
   "cell_type": "markdown",
   "metadata": {},
   "source": [
    "### Coeficiente de Rollet "
   ]
  },
  {
   "cell_type": "code",
   "execution_count": 4,
   "metadata": {},
   "outputs": [
    {
     "name": "stdout",
     "output_type": "stream",
     "text": [
      "El valor de K es: 1.1129\n"
     ]
    }
   ],
   "source": [
    "K=(1+((abs(det))**2)-((abs(S22))**2)-((abs(S11))**2))/abs(2*S12*S21)\n",
    "print(\"El valor de K es:\",\"{:.4f}\".format(K))"
   ]
  },
  {
   "cell_type": "markdown",
   "metadata": {},
   "source": [
    "### Se procede a calcular los coeficientes B1, B2, C1 y C2"
   ]
  },
  {
   "cell_type": "code",
   "execution_count": 5,
   "metadata": {
    "scrolled": true
   },
   "outputs": [
    {
     "name": "stdout",
     "output_type": "stream",
     "text": [
      "B1= 0.8134 0.0000 °\n",
      "B2= 0.2465 0.0000 °\n",
      "C1= 0.3968 168.3951 °\n",
      "C2= 0.0852 -150.9512 °\n"
     ]
    }
   ],
   "source": [
    "B1=1+((abs(S11))**2)-((abs(S22))**2)-(abs(det))**2\n",
    "B2=1+((abs(S22))**2)-((abs(S11))**2)-(abs(det))**2\n",
    "C1=S11-(det*np.conj(S22))\n",
    "C2=S22-(det*np.conj(S11))\n",
    "print(\"B1=\",\"{:.4f}\".format(abs(B1)), \"{:.4f}\".format(np.degrees(np.angle(B1))),\"°\")\n",
    "print(\"B2=\",\"{:.4f}\".format(abs(B2)), \"{:.4f}\".format(np.degrees(np.angle(B2))),\"°\")\n",
    "print(\"C1=\",\"{:.4f}\".format(abs(C1)), \"{:.4f}\".format(np.degrees(np.angle(C1))),\"°\")\n",
    "print(\"C2=\",\"{:.4f}\".format(abs(C2)), \"{:.4f}\".format(np.degrees(np.angle(C2))),\"°\")"
   ]
  },
  {
   "cell_type": "markdown",
   "metadata": {},
   "source": [
    "### Coeficiente de reflexión de entrada Γ<sub>in</sub>"
   ]
  },
  {
   "cell_type": "code",
   "execution_count": 6,
   "metadata": {},
   "outputs": [
    {
     "name": "stdout",
     "output_type": "stream",
     "text": [
      "Γᵢₙ:  0.8003 168.3951 °\n",
      "Γᵢₙ_rect -0.7840+0.1610j\n"
     ]
    }
   ],
   "source": [
    "gamma_in=(B1-np.sqrt((B1**2)-(4*(abs(C1)**2))))/(2*abs(C1))\n",
    "print(\"Γᵢₙ: \",\"{:.4f}\".format(gamma_in), \"{:.4f}\".format(np.degrees(np.angle(C1))),\"°\")\n",
    "gamma_in_rect=gamma_in * np.cos(np.angle(C1)) + gamma_in * np.sin(np.angle(C1)) * 1j\n",
    "print(\"Γᵢₙ_rect\",\"{:.4f}\".format(gamma_in_rect))"
   ]
  },
  {
   "cell_type": "markdown",
   "metadata": {},
   "source": [
    "### Coeficiente de reflexión de salida Γ<sub>out</sub>"
   ]
  },
  {
   "cell_type": "code",
   "execution_count": 9,
   "metadata": {},
   "outputs": [
    {
     "name": "stdout",
     "output_type": "stream",
     "text": [
      "Γₒᵤₜ  0.4010 -150.9512 °\n",
      "Γₒᵤₜ_rect -0.3506-0.1947j\n"
     ]
    }
   ],
   "source": [
    "gamma_out=(B2-np.sqrt((B2**2)-(4*(abs(C2)**2))))/(2*abs(C2))\n",
    "print(\"Γₒᵤₜ \",\"{:.4f}\".format(gamma_out), \"{:.4f}\".format(np.degrees(np.angle(C2))),\"°\")\n",
    "gamma_out_rect=gamma_out * np.cos(np.angle(C2)) + gamma_out * np.sin(np.angle(C2)) * 1j\n",
    "print(\"Γₒᵤₜ_rect\",\"{:.4f}\".format(gamma_out_rect))"
   ]
  },
  {
   "cell_type": "markdown",
   "metadata": {},
   "source": [
    "### Z<sub>in</sub> y Z<sub>out</sub>:"
   ]
  },
  {
   "cell_type": "code",
   "execution_count": 10,
   "metadata": {},
   "outputs": [
    {
     "name": "stdout",
     "output_type": "stream",
     "text": [
      "Z_in= 5.6014+5.0179j\n",
      "Z_out= 22.5361-10.4573j\n"
     ]
    }
   ],
   "source": [
    "Zo=50\n",
    "Z_in=Zo*((1+gamma_in_rect)/(1-gamma_in_rect))\n",
    "print(\"Z_in=\",\"{:.4f}\".format(Z_in))\n",
    "Z_out=Zo*((1+gamma_out_rect)/(1-gamma_out_rect))\n",
    "print(\"Z_out=\",\"{:.4f}\".format(Z_out))"
   ]
  },
  {
   "cell_type": "markdown",
   "metadata": {},
   "source": []
  },
  {
   "cell_type": "code",
   "execution_count": null,
   "metadata": {},
   "outputs": [],
   "source": []
  }
 ],
 "metadata": {
  "kernelspec": {
   "display_name": "Python 3 (ipykernel)",
   "language": "python",
   "name": "python3"
  },
  "language_info": {
   "codemirror_mode": {
    "name": "ipython",
    "version": 3
   },
   "file_extension": ".py",
   "mimetype": "text/x-python",
   "name": "python",
   "nbconvert_exporter": "python",
   "pygments_lexer": "ipython3",
   "version": "3.11.3"
  }
 },
 "nbformat": 4,
 "nbformat_minor": 4
}
